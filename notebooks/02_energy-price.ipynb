{
 "cells": [
  {
   "cell_type": "code",
   "execution_count": null,
   "metadata": {
    "collapsed": true
   },
   "outputs": [],
   "source": [
    "import numpy as np\n",
    "import matplotlib as mpl\n",
    "from matplotlib import pyplot as plt\n",
    "import price_utils as pu"
   ]
  },
  {
   "cell_type": "code",
   "execution_count": null,
   "metadata": {},
   "outputs": [],
   "source": [
    "fig = plt.figure(figsize=(8, 8))\n",
    "\n",
    "pu.graph_price_during_day(fig.add_subplot(311),\n",
    "                          pu.dayWeekSummer,\n",
    "                          c='b',\n",
    "                          label='Day in week on Summer')\n",
    "\n",
    "pu.graph_price_during_day(fig.add_subplot(312),\n",
    "                          pu.dayWeekendSummer,\n",
    "                          c='r',\n",
    "                          label='Day in weekend on Summer')\n",
    "\n",
    "pu.graph_price_during_day(fig.add_subplot(313),\n",
    "                          pu.dayNonSummer,\n",
    "                          c='g',\n",
    "                          label='Day on Non-Summer')\n",
    "\n",
    "plt.tight_layout()\n",
    "plt.show()"
   ]
  },
  {
   "cell_type": "markdown",
   "metadata": {},
   "source": [
    "History Slider and Checkbox usage"
   ]
  },
  {
   "cell_type": "code",
   "execution_count": null,
   "metadata": {
    "collapsed": true
   },
   "outputs": [],
   "source": [
    "# Slider\n",
    "\n",
    "# axZoom = fig.add_subplot(212)\n",
    "# gridZoom, = axZoom.plot(x_time, y_grid, c='b', label='Load Grid')\n",
    "# consZoom, = axZoom.plot(x_time, y_cons, c='r', label='Load Cons')\n",
    "# prodZoom, = axZoom.plot(x_time, y_prod, c='g', label='Load Prod')\n",
    "\n",
    "# def onselect(xmin, xmax):\n",
    "#     indmin, indmax = np.searchsorted(x_time_float,(xmin, xmax))\n",
    "#     indmax = min(len(x_time) - 1, indmax)\n",
    "\n",
    "#     thisx = x_time[indmin:indmax]\n",
    "#     thisyg = y_grid[indmin:indmax]\n",
    "#     thisyc = y_cons[indmin:indmax]\n",
    "#     thisyp = y_prod[indmin:indmax]\n",
    "    \n",
    "#     gridZoom.set_data(thisx, thisyg)\n",
    "#     consZoom.set_data(thisx, thisyc)\n",
    "#     prodZoom.set_data(thisx, thisyp)\n",
    "    \n",
    "#     axZoom.set_xlim(thisx[0], thisx[-1])\n",
    "#     axZoom.set_ylim(np.amin([thisyg, thisyc, thisyp]), \n",
    "#                     np.amax([thisyg, thisyc, thisyp]))\n",
    "    \n",
    "#     #axZoom.set_xticklabels(list(map(lambda x: x.strftime(\"%a\"), mpl.dates.num2date(axZoom.get_xticks()))))\n",
    "#     fig.canvas.draw()\n",
    "\n",
    "# span = SpanSelector(ax, onselect, 'horizontal', useblit=True,\n",
    "#                     rectprops=dict(alpha=0.5, facecolor='red'))\n",
    "\n",
    "\n",
    "###\n",
    "###\n",
    "###\n",
    "\n",
    "# Checkbox\n",
    "\n",
    "# check = CheckButtons(plt.axes([0.0, 0.85, 0.1, 0.15]), \n",
    "#                      ('Grid', 'Cons', 'Prod'), \n",
    "#                      (True, True, True))\n",
    "# def func(label):\n",
    "#     if label == 'Grid':\n",
    "#         grid.set_visible(not grid.get_visible())\n",
    "# #         gridZoom.set_visible(not gridZoom.get_visible())\n",
    "#     elif label == 'Cons':\n",
    "#         cons.set_visible(not cons.get_visible())\n",
    "# #         consZoom.set_visible(not consZoom.get_visible())\n",
    "#     elif label == 'Prod':\n",
    "#         prod.set_visible(not prod.get_visible())\n",
    "# #         prodZoom.set_visible(not prodZoom.get_visible())\n",
    "#     plt.draw()\n",
    "# check.on_clicked(func)"
   ]
  }
 ],
 "metadata": {
  "kernelspec": {
   "display_name": "Python 3",
   "language": "python",
   "name": "python3"
  },
  "language_info": {
   "codemirror_mode": {
    "name": "ipython",
    "version": 3
   },
   "file_extension": ".py",
   "mimetype": "text/x-python",
   "name": "python",
   "nbconvert_exporter": "python",
   "pygments_lexer": "ipython3",
   "version": "3.6.2"
  }
 },
 "nbformat": 4,
 "nbformat_minor": 2
}
