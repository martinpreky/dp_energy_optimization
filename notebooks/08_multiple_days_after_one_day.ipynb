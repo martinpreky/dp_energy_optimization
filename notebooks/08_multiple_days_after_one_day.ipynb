{
 "cells": [
  {
   "cell_type": "code",
   "execution_count": 9,
   "metadata": {
    "collapsed": true
   },
   "outputs": [],
   "source": [
    "%matplotlib notebook\n",
    "\n",
    "import os\n",
    "import sys\n",
    "src_module_path = os.path.abspath(os.path.join('..\\src'))\n",
    "sys.path.append(src_module_path)\n",
    "\n",
    "price_data_module_path = os.path.abspath(os.path.join('..\\data\\external'))\n",
    "sys.path.append(price_data_module_path)\n",
    "\n",
    "from matplotlib import pyplot as plt\n",
    "import numpy as np\n",
    "\n",
    "from features import _data_utils as dutils"
   ]
  },
  {
   "cell_type": "code",
   "execution_count": 10,
   "metadata": {
    "collapsed": true
   },
   "outputs": [],
   "source": [
    "dutils.PATH_TO_DATA = '../data/raw/'\n",
    "house = \"dataid1103.csv\"\n",
    "day = 1\n",
    "numberOfDays = 5\n",
    "x, grid, cons, prod, ids = dutils.init_data(house, numberOfDays, day)"
   ]
  },
  {
   "cell_type": "code",
   "execution_count": 14,
   "metadata": {},
   "outputs": [
    {
     "name": "stdout",
     "output_type": "stream",
     "text": [
      "0\n",
      "[datetime.datetime(2014, 1, 1, 0, 0) datetime.datetime(2014, 1, 1, 1, 0)\n",
      " datetime.datetime(2014, 1, 1, 2, 0) datetime.datetime(2014, 1, 1, 3, 0)\n",
      " datetime.datetime(2014, 1, 1, 4, 0) datetime.datetime(2014, 1, 1, 5, 0)\n",
      " datetime.datetime(2014, 1, 1, 6, 0) datetime.datetime(2014, 1, 1, 7, 0)\n",
      " datetime.datetime(2014, 1, 1, 8, 0) datetime.datetime(2014, 1, 1, 9, 0)\n",
      " datetime.datetime(2014, 1, 1, 10, 0) datetime.datetime(2014, 1, 1, 11, 0)\n",
      " datetime.datetime(2014, 1, 1, 12, 0) datetime.datetime(2014, 1, 1, 13, 0)\n",
      " datetime.datetime(2014, 1, 1, 14, 0) datetime.datetime(2014, 1, 1, 15, 0)\n",
      " datetime.datetime(2014, 1, 1, 16, 0) datetime.datetime(2014, 1, 1, 17, 0)\n",
      " datetime.datetime(2014, 1, 1, 18, 0) datetime.datetime(2014, 1, 1, 19, 0)\n",
      " datetime.datetime(2014, 1, 1, 20, 0) datetime.datetime(2014, 1, 1, 21, 0)\n",
      " datetime.datetime(2014, 1, 1, 22, 0) datetime.datetime(2014, 1, 1, 23, 0)]\n",
      "[ 0.21148333  0.27803333  0.34985     0.34851667  0.35096667  0.32765\n",
      "  0.63326667  0.62026667 -0.1084     -0.69118333 -1.01063333 -0.82693333\n",
      " -0.75911667 -0.93853333 -1.26461667 -0.15928333  0.0907      0.5473\n",
      "  0.58865     0.44711667  0.57445     0.47196667  0.44405     0.53663333]\n",
      "[-0.00638333 -0.00713333 -0.00653333 -0.00663333 -0.00668333 -0.00623333\n",
      " -0.00633333  0.00321667  0.46456667  0.95091667  1.51061667  1.32391667\n",
      "  1.11786667  1.63833333  1.61425     0.58796667  0.37435     0.14335\n",
      " -0.00968333 -0.0067     -0.0067     -0.0067     -0.00651667 -0.00773333]\n",
      "[ 0.21148333  0.27803333  0.34985     0.34851667  0.35096667  0.32765\n",
      "  0.63326667  0.62965     0.35618333  0.25968333  0.50001667  0.49705\n",
      "  0.3587      0.69986667  0.34955     0.42878333  0.46508333  0.69876667\n",
      "  0.58865     0.44711667  0.57445     0.47196667  0.44405     0.53663333]\n",
      "1\n",
      "[datetime.datetime(2014, 1, 2, 0, 0) datetime.datetime(2014, 1, 2, 1, 0)\n",
      " datetime.datetime(2014, 1, 2, 2, 0) datetime.datetime(2014, 1, 2, 3, 0)\n",
      " datetime.datetime(2014, 1, 2, 4, 0) datetime.datetime(2014, 1, 2, 5, 0)\n",
      " datetime.datetime(2014, 1, 2, 6, 0) datetime.datetime(2014, 1, 2, 7, 0)\n",
      " datetime.datetime(2014, 1, 2, 8, 0) datetime.datetime(2014, 1, 2, 9, 0)\n",
      " datetime.datetime(2014, 1, 2, 10, 0) datetime.datetime(2014, 1, 2, 11, 0)\n",
      " datetime.datetime(2014, 1, 2, 12, 0) datetime.datetime(2014, 1, 2, 13, 0)\n",
      " datetime.datetime(2014, 1, 2, 14, 0) datetime.datetime(2014, 1, 2, 15, 0)\n",
      " datetime.datetime(2014, 1, 2, 16, 0) datetime.datetime(2014, 1, 2, 17, 0)\n",
      " datetime.datetime(2014, 1, 2, 18, 0) datetime.datetime(2014, 1, 2, 19, 0)\n",
      " datetime.datetime(2014, 1, 2, 20, 0) datetime.datetime(2014, 1, 2, 21, 0)\n",
      " datetime.datetime(2014, 1, 2, 22, 0) datetime.datetime(2014, 1, 2, 23, 0)]\n",
      "[ 0.25123333  0.23475     0.23301667  0.24423333  0.25361667  0.38803333\n",
      "  0.72821667  0.32148333 -0.1145     -0.74475    -1.43013333 -1.9408\n",
      " -2.23783333 -2.22648333 -1.89848333 -1.52275    -0.96716667 -0.05156667\n",
      "  0.19866667  0.52398333  1.02446667  0.63941667  0.81913333  0.25568333]\n",
      "[-0.00666667 -0.00668333 -0.00668333 -0.00683333 -0.00645    -0.0065\n",
      " -0.00668333  0.00971667  0.35506667  0.98273333  1.64151667  2.18268333\n",
      "  2.49951667  2.46993333  2.11066667  1.7559      1.22256667  0.26651667\n",
      " -0.00971667 -0.00633333 -0.00766667 -0.00833333 -0.00828333 -0.00666667]\n",
      "[ 0.25123333  0.23475     0.23301667  0.24423333  0.25361667  0.38803333\n",
      "  0.72821667  0.33588333  0.2404      0.23793333  0.21143333  0.2419\n",
      "  0.2616      0.24336667  0.21216667  0.2333      0.25546667  0.21833333\n",
      "  0.19866667  0.52398333  1.02446667  0.63941667  0.81913333  0.25568333]\n",
      "2\n",
      "[datetime.datetime(2014, 1, 3, 0, 0) datetime.datetime(2014, 1, 3, 1, 0)\n",
      " datetime.datetime(2014, 1, 3, 2, 0) datetime.datetime(2014, 1, 3, 3, 0)\n",
      " datetime.datetime(2014, 1, 3, 4, 0) datetime.datetime(2014, 1, 3, 5, 0)\n",
      " datetime.datetime(2014, 1, 3, 6, 0) datetime.datetime(2014, 1, 3, 7, 0)\n",
      " datetime.datetime(2014, 1, 3, 8, 0) datetime.datetime(2014, 1, 3, 9, 0)\n",
      " datetime.datetime(2014, 1, 3, 10, 0) datetime.datetime(2014, 1, 3, 11, 0)\n",
      " datetime.datetime(2014, 1, 3, 12, 0) datetime.datetime(2014, 1, 3, 13, 0)\n",
      " datetime.datetime(2014, 1, 3, 14, 0) datetime.datetime(2014, 1, 3, 15, 0)\n",
      " datetime.datetime(2014, 1, 3, 16, 0) datetime.datetime(2014, 1, 3, 17, 0)\n",
      " datetime.datetime(2014, 1, 3, 18, 0) datetime.datetime(2014, 1, 3, 19, 0)\n",
      " datetime.datetime(2014, 1, 3, 20, 0) datetime.datetime(2014, 1, 3, 21, 0)\n",
      " datetime.datetime(2014, 1, 3, 22, 0) datetime.datetime(2014, 1, 3, 23, 0)]\n",
      "[ 0.2125      0.33066667  0.34628333  0.36033333  0.3478      0.34891667\n",
      "  0.72871667  0.51473333 -0.28615    -0.7915     -1.3914     -1.97068333\n",
      " -2.16116667 -2.37076667 -2.29008333 -1.91521667 -1.2015     -0.06756667\n",
      "  0.22771667  0.60075     0.95218333  0.79233333  0.72558333  0.62396667]\n",
      "[-0.00638333 -0.00641667 -0.00663333 -0.0065     -0.00648333 -0.00615\n",
      " -0.00756667  0.00521667  0.52608333  1.0393      1.62351667  2.18841667\n",
      "  2.53428333  2.66836667  2.53665     2.14213333  1.42875     0.28978333\n",
      " -0.00993333 -0.00696667 -0.00833333 -0.00861667 -0.00865    -0.00865   ]\n",
      "[ 0.2125      0.33066667  0.34628333  0.36033333  0.3478      0.34891667\n",
      "  0.72871667  0.52525     0.23998333  0.24773333  0.232       0.2178\n",
      "  0.37311667  0.29763333  0.24656667  0.22703333  0.22718333  0.22848333\n",
      "  0.22771667  0.60075     0.95218333  0.79233333  0.72558333  0.62396667]\n",
      "3\n",
      "[datetime.datetime(2014, 1, 4, 0, 0) datetime.datetime(2014, 1, 4, 1, 0)\n",
      " datetime.datetime(2014, 1, 4, 2, 0) datetime.datetime(2014, 1, 4, 3, 0)\n",
      " datetime.datetime(2014, 1, 4, 4, 0) datetime.datetime(2014, 1, 4, 5, 0)\n",
      " datetime.datetime(2014, 1, 4, 6, 0) datetime.datetime(2014, 1, 4, 7, 0)\n",
      " datetime.datetime(2014, 1, 4, 8, 0) datetime.datetime(2014, 1, 4, 9, 0)\n",
      " datetime.datetime(2014, 1, 4, 10, 0) datetime.datetime(2014, 1, 4, 11, 0)\n",
      " datetime.datetime(2014, 1, 4, 12, 0) datetime.datetime(2014, 1, 4, 13, 0)\n",
      " datetime.datetime(2014, 1, 4, 14, 0) datetime.datetime(2014, 1, 4, 15, 0)\n",
      " datetime.datetime(2014, 1, 4, 16, 0) datetime.datetime(2014, 1, 4, 17, 0)\n",
      " datetime.datetime(2014, 1, 4, 18, 0) datetime.datetime(2014, 1, 4, 19, 0)\n",
      " datetime.datetime(2014, 1, 4, 20, 0) datetime.datetime(2014, 1, 4, 21, 0)\n",
      " datetime.datetime(2014, 1, 4, 22, 0) datetime.datetime(2014, 1, 4, 23, 0)]\n",
      "[ 0.3525      0.31121667  0.33141667  0.24808333  0.35071667  0.33801667\n",
      "  0.81221667  0.5272     -0.05986667 -0.6354     -0.9301     -1.31323333\n",
      " -2.14621667 -2.15713333 -1.93981667 -1.15781667 -0.64486667  0.45476667\n",
      "  0.94391667  0.91693333  0.72211667  0.75963333  0.75075     0.3723    ]\n",
      "[-0.0078     -0.0063     -0.00646667 -0.00683333 -0.00663333 -0.00656667\n",
      " -0.00745     0.00815     0.44441667  0.95348333  1.36935     1.55598333\n",
      "  2.39845     2.44801667  2.35363333  1.46461667  1.26585     0.12296667\n",
      " -0.00915    -0.008      -0.008      -0.00815    -0.0083     -0.00728333]\n",
      "[ 0.3525      0.31121667  0.33141667  0.24808333  0.35071667  0.33801667\n",
      "  0.81221667  0.54066667  0.38446667  0.31805     0.43916667  0.24268333\n",
      "  0.25235     0.29088333  0.41391667  0.30683333  0.62093333  0.58728333\n",
      "  0.94391667  0.91693333  0.72211667  0.75963333  0.75075     0.3723    ]\n",
      "4\n",
      "[datetime.datetime(2014, 1, 5, 0, 0) datetime.datetime(2014, 1, 5, 1, 0)\n",
      " datetime.datetime(2014, 1, 5, 2, 0) datetime.datetime(2014, 1, 5, 3, 0)\n",
      " datetime.datetime(2014, 1, 5, 4, 0) datetime.datetime(2014, 1, 5, 5, 0)\n",
      " datetime.datetime(2014, 1, 5, 6, 0) datetime.datetime(2014, 1, 5, 7, 0)\n",
      " datetime.datetime(2014, 1, 5, 8, 0) datetime.datetime(2014, 1, 5, 9, 0)\n",
      " datetime.datetime(2014, 1, 5, 10, 0) datetime.datetime(2014, 1, 5, 11, 0)\n",
      " datetime.datetime(2014, 1, 5, 12, 0) datetime.datetime(2014, 1, 5, 13, 0)\n",
      " datetime.datetime(2014, 1, 5, 14, 0) datetime.datetime(2014, 1, 5, 15, 0)\n",
      " datetime.datetime(2014, 1, 5, 16, 0) datetime.datetime(2014, 1, 5, 17, 0)\n",
      " datetime.datetime(2014, 1, 5, 18, 0) datetime.datetime(2014, 1, 5, 19, 0)\n",
      " datetime.datetime(2014, 1, 5, 20, 0) datetime.datetime(2014, 1, 5, 21, 0)\n",
      " datetime.datetime(2014, 1, 5, 22, 0) datetime.datetime(2014, 1, 5, 23, 0)]\n",
      "[ 0.23253333  0.23885     0.23776667  0.23643333  0.42686667  0.63335\n",
      "  0.27066667  0.37325    -0.08928333 -0.34363333 -1.3714     -1.37503333\n",
      " -2.25748333 -2.14735    -2.02135    -1.50741667 -0.59163333  0.66046667\n",
      "  0.79268333  0.82878333  0.76983333  0.9483      0.75731667  0.3129    ]\n",
      "[-0.00661667 -0.00666667 -0.00663333 -0.00665    -0.007      -0.0084\n",
      " -0.00665     0.02281667  0.31695     0.56501667  1.60531667  2.07995\n",
      "  2.55206667  2.69916667  2.59558333  2.11963333  1.25291667  0.07711667\n",
      " -0.00956667 -0.00866667 -0.00855    -0.00803333 -0.00753333 -0.00741667]\n",
      "[ 0.23253333  0.23885     0.23776667  0.23643333  0.42686667  0.63335\n",
      "  0.27066667  0.40038333  0.22765     0.22138333  0.23391667  0.70503333\n",
      "  0.29466667  0.55186667  0.57428333  0.61221667  0.66131667  0.74706667\n",
      "  0.79268333  0.82878333  0.76983333  0.9483      0.75731667  0.3129    ]\n"
     ]
    }
   ],
   "source": [
    "for idx, (oneX, oneGrid, oneProd, oneCons) in enumerate(zip(np.split(x, 5), np.split(grid, 5), np.split(prod, 5), np.split(cons, 5))):\n",
    "    print(idx)\n",
    "    print(oneX)\n",
    "    print(oneGrid)\n",
    "    print(oneProd)\n",
    "    print(oneCons)"
   ]
  },
  {
   "cell_type": "code",
   "execution_count": 17,
   "metadata": {},
   "outputs": [
    {
     "data": {
      "text/plain": [
       "5"
      ]
     },
     "execution_count": 17,
     "metadata": {},
     "output_type": "execute_result"
    }
   ],
   "source": [
    "int (len(x) / 24)"
   ]
  },
  {
   "cell_type": "code",
   "execution_count": 44,
   "metadata": {},
   "outputs": [
    {
     "data": {
      "text/plain": [
       "array([[0, 0],\n",
       "       [1, 1],\n",
       "       [1, 1]])"
      ]
     },
     "execution_count": 44,
     "metadata": {},
     "output_type": "execute_result"
    }
   ],
   "source": [
    "a = np.array([(0,0),(0,0),(0,0),(0,9)])\n",
    "b = np.array([(1,1),(1,1)])\n",
    "c = np.array([(0,0)])\n",
    "\n",
    "a = np.append(c,b, axis=0)\n",
    "a"
   ]
  },
  {
   "cell_type": "code",
   "execution_count": 45,
   "metadata": {},
   "outputs": [
    {
     "data": {
      "text/plain": [
       "array([ 1.,  2.])"
      ]
     },
     "execution_count": 45,
     "metadata": {},
     "output_type": "execute_result"
    }
   ],
   "source": [
    "a = np.array([])\n",
    "b = np.array([1,2])\n",
    "\n",
    "a = np.append(a,b)\n",
    "a"
   ]
  },
  {
   "cell_type": "code",
   "execution_count": 50,
   "metadata": {},
   "outputs": [
    {
     "data": {
      "text/plain": [
       "array([0, 1, 2])"
      ]
     },
     "execution_count": 50,
     "metadata": {},
     "output_type": "execute_result"
    }
   ],
   "source": [
    "a = np.arange(10)\n",
    "a[:3]"
   ]
  },
  {
   "cell_type": "code",
   "execution_count": 51,
   "metadata": {},
   "outputs": [
    {
     "data": {
      "text/plain": [
       "array([[1, 0],\n",
       "       [1, 0],\n",
       "       [1, 0],\n",
       "       [1, 9]])"
      ]
     },
     "execution_count": 51,
     "metadata": {},
     "output_type": "execute_result"
    }
   ],
   "source": [
    "a = np.array([(1,0),(1,0),(1,0),(1,9)])\n",
    "a"
   ]
  },
  {
   "cell_type": "code",
   "execution_count": 66,
   "metadata": {},
   "outputs": [
    {
     "data": {
      "text/plain": [
       "array([1, 1, 1, 1])"
      ]
     },
     "execution_count": 66,
     "metadata": {},
     "output_type": "execute_result"
    }
   ],
   "source": [
    "lb = a[:,0]\n",
    "lb"
   ]
  },
  {
   "cell_type": "code",
   "execution_count": 27,
   "metadata": {},
   "outputs": [
    {
     "name": "stdout",
     "output_type": "stream",
     "text": [
      "[array([11]), array([22]), array([33]), array([44]), array([55]), array([66]), array([77])]\n",
      "[array([22]), array([33]), array([44]), array([55]), array([66]), array([77]), array([88])]\n"
     ]
    },
    {
     "data": {
      "text/plain": [
       "array([[11, 22],\n",
       "       [22, 33],\n",
       "       [33, 44],\n",
       "       [44, 55],\n",
       "       [55, 66],\n",
       "       [66, 77],\n",
       "       [77, 88]])"
      ]
     },
     "execution_count": 27,
     "metadata": {},
     "output_type": "execute_result"
    }
   ],
   "source": [
    "import numpy as np\n",
    "\n",
    "a = np.array([11, 22, 33, 44, 55, 66, 77, 88])\n",
    "\n",
    "# np.hstack((a[1:-1],a[2:]))\n",
    "\n",
    "# firstTwo = np.split(a[:-2], int(len(a)/2) -1)\n",
    "# secondTwo = np.split(a[1:-1], int(len(a)/2) -1)\n",
    "\n",
    "firstTwo = np.split(a[:-1], len(a)-1)\n",
    "secondTwo = np.split(a[1:], len(a)-1)\n",
    "\n",
    "print(firstTwo)\n",
    "print(secondTwo)\n",
    "np.hstack((firstTwo, secondTwo))\n",
    "\n"
   ]
  },
  {
   "cell_type": "code",
   "execution_count": null,
   "metadata": {
    "collapsed": true
   },
   "outputs": [],
   "source": []
  }
 ],
 "metadata": {
  "kernelspec": {
   "display_name": "Python 3",
   "language": "python",
   "name": "python3"
  },
  "language_info": {
   "codemirror_mode": {
    "name": "ipython",
    "version": 3
   },
   "file_extension": ".py",
   "mimetype": "text/x-python",
   "name": "python",
   "nbconvert_exporter": "python",
   "pygments_lexer": "ipython3",
   "version": "3.6.2"
  }
 },
 "nbformat": 4,
 "nbformat_minor": 2
}
