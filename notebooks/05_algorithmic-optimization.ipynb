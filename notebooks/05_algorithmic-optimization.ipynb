{
 "cells": [
  {
   "cell_type": "code",
   "execution_count": null,
   "metadata": {
    "collapsed": true
   },
   "outputs": [],
   "source": [
    "%matplotlib notebook\n",
    "import scipy.optimize as opti\n",
    "import numpy as np\n",
    "import matplotlib as mpl\n",
    "from matplotlib import pyplot as plt\n",
    "from matplotlib.widgets import CheckButtons, SpanSelector\n",
    "import ipywidgets as widgets\n",
    "from ipywidgets import interact #, interactive, fixed, interact_manual\n",
    "import pandas as pd\n",
    "from scipy.optimize import minimize\n",
    "import price_utils as putils\n",
    "import data_utils as dutils"
   ]
  },
  {
   "cell_type": "code",
   "execution_count": null,
   "metadata": {
    "scrolled": false
   },
   "outputs": [],
   "source": [
    "fileName = \"dataid1103.csv\"\n",
    "numOfDays = 1\n",
    "sinceDayId = 1\n",
    "\n",
    "firstTime = -3\n",
    "def onInteractEvent(fN, nD, sD):\n",
    "    global fileName, numOfDays, sinceDayId, firstTime\n",
    "    \n",
    "    firstTime += 1\n",
    "    if firstTime > 0:\n",
    "        fileName, numOfDays, sinceDayId = fN, nD, sD\n",
    "        \n",
    "        x, grid, cons, prod = dutils.init_data(fileName, numOfDays, sinceDayId)\n",
    "        \n",
    "        optimize(x, grid, cons, prod)\n",
    "\n",
    "def onSelectHouse(x):\n",
    "    global numOfDays, sinceDayId\n",
    "    onInteractEvent(x, numOfDays, sinceDayId)\n",
    "\n",
    "def onNumOfDays(x):\n",
    "    global fileName, sinceDayId\n",
    "    onInteractEvent(fileName, x, sinceDayId)\n",
    "    \n",
    "def onSinceDay(x):\n",
    "    global fileName, numOfDays\n",
    "    onInteractEvent(fileName, numOfDays, x)\n",
    "\n",
    "interact(onSelectHouse, x=dutils.get_houses_csvs());\n",
    "interact(onSinceDay, x=dutils.get_dict_day_id(fileName));\n",
    "interact(onNumOfDays, x=widgets.IntSlider(min=1,max=30,step=1,value=1));\n",
    "plt.plot(figsize=(10,4))"
   ]
  },
  {
   "cell_type": "code",
   "execution_count": null,
   "metadata": {
    "collapsed": true
   },
   "outputs": [],
   "source": [
    "def costFuncOnMinE(X):\n",
    "    batt_diff = np.insert(np.diff(X), 0, 0)\n",
    "    return sum(np.array(CONS + batt_diff - PROD).clip(0,100))\n",
    "\n",
    "def newGridEvolution(X):\n",
    "    batt_diff = np.insert(np.diff(X), 0, 0)\n",
    "    return np.array(CONS + batt_diff - PROD).clip(0,100)\n",
    "\n",
    "def costFuncOnMinPrice(X):\n",
    "    batt_diff = np.insert(np.diff(X), 0, 0)\n",
    "    return sum(np.array(CONS + batt_diff - PROD).clip(0,100) * PRICE)\n",
    "\n",
    "def costEvolutionProduction(X):\n",
    "    D = np.insert(np.diff(X), 0, 0).clip(0, 100)\n",
    "    return PROD - (PROD - (CONS + D)).clip(0,100)\n",
    "#     unused_prod = np.array(CONS + D - PROD).clip(-100, 0)\n",
    "#     return PROD + unused_prod\n",
    "    "
   ]
  },
  {
   "cell_type": "code",
   "execution_count": null,
   "metadata": {
    "collapsed": true
   },
   "outputs": [],
   "source": [
    "X_DATA, PRICE, GRID, CONS, PROD, RESULT = [], [], [], [], [], {}\n",
    "prod_usage = None\n",
    "def optimize(x, grid, cons, prod):\n",
    "    global X_DATA, PRICE, GRID, CONS, PROD, RESULT\n",
    "    X_DATA, GRID, CONS, PROD, PRICE = x, grid, cons, prod, putils.get_prices_per_hour(x)\n",
    "    b = [(0,0)] + [(0,10)] * (len(CONS) - 1)\n",
    "    \n",
    "    RESULT = opti.minimize(costFuncOnMinE, #costFuncOnMinE costFuncOnMinPrice\n",
    "                           np.repeat(0,len(CONS)), \n",
    "                           bounds=b, \n",
    "                           method='L-BFGS-B',\n",
    "                           options={'disp': False, 'maxiter': 15000, 'maxfun': 3000000}) # L-BFGS-B SLSQP\n",
    "    \n",
    "    new_grid = newGridEvolution(RESULT.x)\n",
    "    prod_usage = costEvolutionProduction(RESULT.x)\n",
    "    showGraph(x=x, \n",
    "              grid=grid, \n",
    "              cons=cons, \n",
    "              prod=prod,\n",
    "              batt_charge=RESULT.x, \n",
    "              new_grid=new_grid,\n",
    "              prod_usage=prod_usage)\n",
    "    report(x=x, price=PRICE, new_grid=new_grid, grid=grid, cons=cons, prod=prod, prod_usage=prod_usage)\n",
    "    "
   ]
  },
  {
   "cell_type": "code",
   "execution_count": null,
   "metadata": {
    "collapsed": true
   },
   "outputs": [],
   "source": [
    "def showGraph(x=[], grid=[], cons=[], prod=[], batt_charge=[], new_grid=[], prod_usage=[]):\n",
    "    plt.clf()\n",
    "    plt.ylim(-3, 10)\n",
    "    plt.plot(x, prod, c='g', label='Load Prod')\n",
    "    plt.plot(x, grid, c='b', label='Load Grid')\n",
    "    plt.plot(x, cons, c='r', ls='dashed', label='Load Cons')\n",
    "    plt.plot(x, new_grid, c='m', label='Load New Grid')\n",
    "#     plt.plot(x, batt_charge, c='y', label='Battery Charge')\n",
    "    plt.plot(x, prod_usage, c='k', ls='dotted', label=\"Production Usage\")\n",
    "    \n",
    "    plt.legend()\n",
    "    plt.tight_layout()\n",
    "    plt.show()"
   ]
  },
  {
   "cell_type": "code",
   "execution_count": null,
   "metadata": {
    "collapsed": true,
    "scrolled": false
   },
   "outputs": [],
   "source": [
    "def report(x=[], price=[], new_grid=[], grid=[], cons=[], prod=[], prod_usage=[]):\n",
    "    price_grid = putils.get_cost_per_hour(price, new_grid)\n",
    "    print(\"Price \", price_grid.sum())\n",
    "    print(\"New Grid \", new_grid.sum())\n",
    "    print(\"E from Phtovoltaic \", prod_usage.sum())\n",
    "    print(\"-check- Grid \", grid.clip(0, 100).sum())\n",
    "    print(\"-check- Cons \", cons.sum())\n",
    "    print(\"-check- Prod \", prod.sum())\n",
    "    print(\"------------------\")\n",
    "    print(\"RESULT.fu \", RESULT.fun)\n",
    "    print(\"RESULT.success \", RESULT.success)\n",
    "    print(\"RESULT.message \", RESULT.message)\n",
    "    print(\"RESULT.nfev \", RESULT.nfev)\n",
    "    print(\"RESULT.nit \", RESULT.nit)\n"
   ]
  },
  {
   "cell_type": "code",
   "execution_count": null,
   "metadata": {
    "collapsed": true
   },
   "outputs": [],
   "source": []
  },
  {
   "cell_type": "code",
   "execution_count": null,
   "metadata": {
    "collapsed": true
   },
   "outputs": [],
   "source": []
  },
  {
   "cell_type": "code",
   "execution_count": null,
   "metadata": {
    "collapsed": true
   },
   "outputs": [],
   "source": []
  }
 ],
 "metadata": {
  "kernelspec": {
   "display_name": "Python 3",
   "language": "python",
   "name": "python3"
  },
  "language_info": {
   "codemirror_mode": {
    "name": "ipython",
    "version": 3
   },
   "file_extension": ".py",
   "mimetype": "text/x-python",
   "name": "python",
   "nbconvert_exporter": "python",
   "pygments_lexer": "ipython3",
   "version": "3.6.2"
  }
 },
 "nbformat": 4,
 "nbformat_minor": 2
}
