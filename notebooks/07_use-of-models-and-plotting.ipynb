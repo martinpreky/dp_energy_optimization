{
 "cells": [
  {
   "cell_type": "code",
   "execution_count": 1,
   "metadata": {
    "collapsed": true
   },
   "outputs": [],
   "source": [
    "%matplotlib notebook\n",
    "\n",
    "import os\n",
    "import sys\n",
    "src_module_path = os.path.abspath(os.path.join('..\\src'))\n",
    "sys.path.append(src_module_path)\n",
    "\n",
    "price_data_module_path = os.path.abspath(os.path.join('..\\data\\external'))\n",
    "sys.path.append(price_data_module_path)\n",
    "\n",
    "from matplotlib import pyplot as plt\n",
    "\n",
    "from features import _data_utils as dutils\n",
    "from models.modelOneEBOptimizer import *\n",
    "from models.modelOneLBFGSBOptimizer import *\n",
    "from models.modelOnePSOOptimizer import *\n",
    "from models.modelTwoEBOptimizer import *\n",
    "from models.modelTwoLBFGSBOptimizer import *\n",
    "from models.modelTwoPSOOptimizer import *\n",
    "from models.modelThreeEBOptimizer import *\n",
    "from models.modelThreeLBFGSBOptimizer import *\n",
    "from models.modelThreePSOOptimizer import *"
   ]
  },
  {
   "cell_type": "code",
   "execution_count": null,
   "metadata": {
    "scrolled": false
   },
   "outputs": [],
   "source": [
    "dutils.PATH_TO_DATA = '../data/raw/'\n",
    "house = \"dataid1103.csv\"\n",
    "day = 1\n",
    "numberOfDays = 1\n",
    "x, grid, cons, prod, ids = dutils.init_data(house, numberOfDays, day)\n",
    "\n",
    "# m = ModelOneEBOptimizer(ids, x, grid, cons, prod)\n",
    "m = ModelOneLBFGSBOptimizer(ids, x, grid, cons, prod)\n",
    "# m = ModelOnePSOOptimizer(ids, x, grid, cons, prod)\n",
    "# m = ModelTwoEBOptimizer(ids, x, grid, cons, prod)\n",
    "# m = ModelTwoLBFGSBOptimizer(ids, x, grid, cons, prod)\n",
    "# m = ModelTwoPSOOptimizer(ids, x, grid, cons, prod)\n",
    "# m = ModelThreeEBOptimizer(ids, x, grid, cons, prod)\n",
    "# m = ModelThreeLBFGSBOptimizer(ids, x, grid, cons, prod)\n",
    "# m = ModelThreePSOOptimizer(ids, x, grid, cons, prod)\n",
    "\n",
    "m.optimize()\n",
    "REPORT = m.getReport()\n",
    "m.showPlot()\n"
   ]
  },
  {
   "cell_type": "code",
   "execution_count": null,
   "metadata": {
    "collapsed": true
   },
   "outputs": [],
   "source": [
    "# plt.clf()\n",
    "# plt.plot(REPORT['dateTime'], REPORT['loadGrid'], c='b', label='Load Grid')\n",
    "# plt.plot(REPORT['dateTime'], REPORT['loadProd'], c='g', label='Load Prod')\n",
    "# plt.plot(REPORT['dateTime'], REPORT['loadCons'], c='r', ls='dashed', label='Load Cons')\n",
    "\n",
    "# plt.plot(REPORT['dateTime'], REPORT['battCharge'], c='y', label='Battery Charge')\n",
    "# plt.plot(REPORT['dateTime'], REPORT['prodUsage'], c='k', ls='dotted', label=\"Production Usage\")\n",
    "# plt.plot(REPORT['dateTime'], REPORT['newGrid'], c='m', label='Load New Grid')\n",
    "\n",
    "# plt.legend()\n",
    "# plt.tight_layout()\n",
    "# plt.show()"
   ]
  },
  {
   "cell_type": "code",
   "execution_count": null,
   "metadata": {},
   "outputs": [],
   "source": [
    "REPORT\n",
    "len(REPORT['battCharge'])"
   ]
  },
  {
   "cell_type": "code",
   "execution_count": null,
   "metadata": {},
   "outputs": [],
   "source": [
    "365*24"
   ]
  },
  {
   "cell_type": "code",
   "execution_count": null,
   "metadata": {
    "collapsed": true
   },
   "outputs": [],
   "source": []
  }
 ],
 "metadata": {
  "kernelspec": {
   "display_name": "Python 3",
   "language": "python",
   "name": "python3"
  },
  "language_info": {
   "codemirror_mode": {
    "name": "ipython",
    "version": 3
   },
   "file_extension": ".py",
   "mimetype": "text/x-python",
   "name": "python",
   "nbconvert_exporter": "python",
   "pygments_lexer": "ipython3",
   "version": "3.6.2"
  }
 },
 "nbformat": 4,
 "nbformat_minor": 2
}
