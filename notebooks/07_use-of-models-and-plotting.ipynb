{
 "cells": [
  {
   "cell_type": "code",
   "execution_count": null,
   "metadata": {
    "collapsed": true
   },
   "outputs": [],
   "source": [
    "%matplotlib notebook\n",
    "\n",
    "import os\n",
    "import sys\n",
    "src_module_path = os.path.abspath(os.path.join('..\\src'))\n",
    "sys.path.append(src_module_path)\n",
    "\n",
    "price_data_module_path = os.path.abspath(os.path.join('..\\data\\external'))\n",
    "sys.path.append(price_data_module_path)\n",
    "\n",
    "from matplotlib import pyplot as plt\n",
    "\n",
    "from features import _data_utils as dutils\n",
    "from models.modelOneEBOptimizer import *\n",
    "from models.modelOneLBFGSBOptimizer import *\n",
    "from models.modelOnePSOOptimizer import *\n",
    "from models.modelTwoEBOptimizer import *\n",
    "from models.modelTwoLBFGSBOptimizer import *\n",
    "from models.modelTwoPSOOptimizer import *\n",
    "from models.modelThreeEBOptimizer import *\n",
    "from models.modelThreeLBFGSBOptimizer import *\n",
    "from models.modelThreePSOOptimizer import *"
   ]
  },
  {
   "cell_type": "code",
   "execution_count": null,
   "metadata": {
    "collapsed": true,
    "scrolled": false
   },
   "outputs": [],
   "source": [
    "dutils.PATH_TO_DATA = '../data/raw/'\n",
    "house = \"dataid1103.csv\"\n",
    "day = 1\n",
    "numberOfDays = 20\n",
    "x, grid, cons, prod, ids = dutils.init_data(house, numberOfDays, day)\n",
    "\n",
    "# m = ModelOneEBOptimizer(ids, x, grid, cons, prod)\n",
    "# m = ModelOneLBFGSBOptimizer(ids, x, grid, cons, prod)\n",
    "# m = ModelOnePSOOptimizer(ids, x, grid, cons, prod)\n",
    "m = ModelTwoEBOptimizer(ids, x, grid, cons, prod)\n",
    "# m = ModelTwoLBFGSBOptimizer(ids, x, grid, cons, prod)\n",
    "# m = ModelTwoPSOOptimizer(ids, x, grid, cons, prod)\n",
    "# m = ModelThreeEBOptimizer(ids, x, grid, cons, prod)\n",
    "# m = ModelThreeLBFGSBOptimizer(ids, x, grid, cons, prod)\n",
    "# m = ModelThreePSOOptimizer(ids, x, grid, cons, prod)\n",
    "\n",
    "m.optimize()\n",
    "# REPORT = m.getReport()\n",
    "# m.showPlot()\n"
   ]
  },
  {
   "cell_type": "code",
   "execution_count": null,
   "metadata": {},
   "outputs": [],
   "source": [
    "[\n",
    "    np.sum(m.getReport()['newGrid']) + np.sum(m.getReport()['prodUsage']),\n",
    "    np.sum(m.getReport()['loadCons'][:-24]),\n",
    "    np.sum(m.getReport()['prodUsage'])\n",
    "]"
   ]
  },
  {
   "cell_type": "code",
   "execution_count": null,
   "metadata": {},
   "outputs": [],
   "source": [
    "(np.sum(m.getReport()['newGrid']),\n",
    "np.sum(m.getReport()['loadGrid'].clip(0,100)))"
   ]
  },
  {
   "cell_type": "code",
   "execution_count": null,
   "metadata": {},
   "outputs": [],
   "source": [
    "[\n",
    "    np.sum(np.array(m.getReport()['newGrid']) * m.getReport()['prices']),\n",
    "    np.sum(m.getReport()['loadGrid'].clip(0, 100) * m.getReport()['prices'])\n",
    "]\n"
   ]
  },
  {
   "cell_type": "code",
   "execution_count": null,
   "metadata": {},
   "outputs": [],
   "source": [
    "m.showPlot()"
   ]
  },
  {
   "cell_type": "code",
   "execution_count": null,
   "metadata": {
    "collapsed": true
   },
   "outputs": [],
   "source": [
    "import pandas as pd\n",
    "\n",
    "m.defineDataAttrs(house, numberOfDays, day)\n",
    "pathFile = \"../data/interim/\" + m.getCsvName()\n",
    "print(pathFile)\n",
    "\n",
    "df = pd.DataFrame(data=m.getReport())\n",
    "df.to_csv(path_or_buf=pathFile, sep=\";\", na_rep=\"N/A\")"
   ]
  },
  {
   "cell_type": "code",
   "execution_count": null,
   "metadata": {
    "collapsed": true
   },
   "outputs": [],
   "source": [
    "import numpy as np\n",
    "arr = np.array([-1,-12,-3, 4,5,6,7,8,9])\n",
    "sss = np.array([7,-7,-7, 7,7,7,7,7,7])\n",
    "\n",
    "arr = np.where(arr > sss, arr-sss, sss).clip(0, 100)\n",
    "\n",
    "arr\n"
   ]
  },
  {
   "cell_type": "code",
   "execution_count": null,
   "metadata": {
    "collapsed": true
   },
   "outputs": [],
   "source": []
  }
 ],
 "metadata": {
  "kernelspec": {
   "display_name": "Python 3",
   "language": "python",
   "name": "python3"
  },
  "language_info": {
   "codemirror_mode": {
    "name": "ipython",
    "version": 3
   },
   "file_extension": ".py",
   "mimetype": "text/x-python",
   "name": "python",
   "nbconvert_exporter": "python",
   "pygments_lexer": "ipython3",
   "version": "3.6.2"
  }
 },
 "nbformat": 4,
 "nbformat_minor": 2
}
