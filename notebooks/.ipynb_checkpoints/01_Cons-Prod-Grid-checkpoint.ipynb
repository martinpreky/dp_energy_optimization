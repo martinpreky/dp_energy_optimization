{
 "cells": [
  {
   "cell_type": "markdown",
   "metadata": {},
   "source": [
    "This is jupyter hello world."
   ]
  },
  {
   "cell_type": "markdown",
   "metadata": {},
   "source": [
    "#### Imports"
   ]
  },
  {
   "cell_type": "code",
   "execution_count": null,
   "metadata": {
    "collapsed": true
   },
   "outputs": [],
   "source": [
    "%matplotlib notebook\n",
    "import numpy as np\n",
    "import matplotlib as mpl\n",
    "from matplotlib import pyplot as plt\n",
    "from matplotlib.widgets import CheckButtons, SpanSelector\n",
    "import ipywidgets as widgets\n",
    "from ipywidgets import interact #, interactive, fixed, interact_manual\n",
    "import pandas as pd\n",
    "from scipy.optimize import minimize\n",
    "import price_utils as putils\n",
    "import data_utils as dutils\n",
    "import uc1_energy_usage as uc1\n",
    "import uc3_price_optimization as uc3\n"
   ]
  },
  {
   "cell_type": "markdown",
   "metadata": {},
   "source": [
    "#### Interactives"
   ]
  },
  {
   "cell_type": "code",
   "execution_count": null,
   "metadata": {
    "collapsed": true
   },
   "outputs": [],
   "source": [
    "fileName = \"dataid1103.csv\"\n",
    "numOfDays = 1\n",
    "sinceDayId = 1\n",
    "\n",
    "firstTime = -3\n",
    "def onInteractEvent(fN, nD, sD):\n",
    "    global fileName, numOfDays, sinceDayId, firstTime\n",
    "    \n",
    "    firstTime += 1\n",
    "    if firstTime > 0:\n",
    "        fileName, numOfDays, sinceDayId = fN, nD, sD\n",
    "        \n",
    "        x, grid, cons, prod = dutils.init_data(fileName, numOfDays, sinceDayId)\n",
    "        \n",
    "        uc0_refreshData(x, grid, cons, prod)\n",
    "        uc1_greedy_refreshData(x, cons, prod)\n",
    "        uc3_greedy_refreshData(x, cons, prod)\n",
    "        price_refreshData(x)\n",
    "        print_report()\n",
    "\n",
    "def onSelectHouse(x):\n",
    "    global numOfDays, sinceDayId\n",
    "    onInteractEvent(x, numOfDays, sinceDayId)\n",
    "\n",
    "def onNumOfDays(x):\n",
    "    global fileName, sinceDayId\n",
    "    onInteractEvent(fileName, x, sinceDayId)\n",
    "    \n",
    "def onSinceDay(x):\n",
    "    global fileName, numOfDays\n",
    "    onInteractEvent(fileName, numOfDays, x)\n"
   ]
  },
  {
   "cell_type": "markdown",
   "metadata": {},
   "source": [
    "#### Plot setup"
   ]
  },
  {
   "cell_type": "code",
   "execution_count": null,
   "metadata": {
    "scrolled": false
   },
   "outputs": [],
   "source": [
    "interact(onSelectHouse, x=dutils.get_houses_csvs());\n",
    "interact(onSinceDay, x=dutils.get_dict_day_id(fileName));\n",
    "interact(onNumOfDays, x=widgets.IntSlider(min=1,max=30,step=1,value=1));\n",
    "\n",
    "x_time, y_grid, y_cons, y_prod = dutils.init_data(fileName, numOfDays, sinceDayId)\n",
    "fig = plt.figure(figsize=(8, 12))\n",
    "\n",
    "uc0_ax = fig.add_subplot(411)\n",
    "uc0_grid, = uc0_ax.plot(x_time, y_grid, c='b', label='Load Grid')\n",
    "uc0_cons, = uc0_ax.plot(x_time, y_cons, c='r', label='Load Cons')\n",
    "uc0_prod, = uc0_ax.plot(x_time, y_prod, c='g', label='Load Prod')\n",
    "\n",
    "uc0_ax.set_title(\"House\")    \n",
    "uc0_ax.set_xlabel('time')\n",
    "uc0_ax.set_ylabel('kW')\n",
    "#ax.set_xticklabels(list(map(lambda x: x.strftime(\"%b\"), mpl.dates.num2date(ax.get_xticks()))))\n",
    "uc0_ax.legend()\n",
    "\n",
    "plt.tight_layout()\n",
    "plt.show()\n",
    "\n",
    "def get_x():\n",
    "    return uc0_grid.get_xdata()\n",
    "\n",
    "def uc0_refreshData(x, ygrid, ycons, yprod):\n",
    "    uc0_grid.set_data(x, ygrid)\n",
    "    uc0_cons.set_data(x, ycons)\n",
    "    uc0_prod.set_data(x, yprod)\n",
    "    \n",
    "    uc0_ax.set_xlim(x[0], x[-1])\n",
    "    uc0_ax.set_ylim(np.amin([ygrid, ycons, yprod]), \n",
    "                np.amax([ygrid, ycons, yprod]))\n",
    "    \n",
    "    fig.canvas.draw()\n"
   ]
  },
  {
   "cell_type": "markdown",
   "metadata": {},
   "source": [
    "# Battery simulation"
   ]
  },
  {
   "cell_type": "markdown",
   "metadata": {},
   "source": [
    "### 1. Z pohľadu využitia čo najväčšieho množstva energie vyprodukovanej f-v článkami\n",
    "\n",
    "#### a. Event driven - ak je batéria nabitá, tak sa energia čerpá z batérie, inak zo siete"
   ]
  },
  {
   "cell_type": "code",
   "execution_count": null,
   "metadata": {},
   "outputs": [],
   "source": [
    "def uc1_greedy_refreshData(x, cons, prod):\n",
    "    ygrid, ybatt_charge, ybatt_discharge = uc1.calc_greedy_batt_usage(cons, prod, battery_capacity=10)\n",
    "    \n",
    "    uc1_grid.set_data(x, ygrid)\n",
    "    uc1_batt_charge.set_data(x, ybatt_charge)\n",
    "    uc1_batt_discharge.set_data(x, ybatt_discharge)\n",
    "    uc1_ax.set_xlim(x[0], x[-1])\n",
    "    uc1_ax.set_ylim(-1,np.amax([ygrid, ybatt_charge, ybatt_discharge]))\n",
    "    \n",
    "    fig.canvas.draw()\n",
    "\n",
    "uc1_ax = fig.add_subplot(412)\n",
    "uc1_batt_charge, = uc1_ax.plot(get_x(), [0]*len(get_x()), c='y', label='Battery charge')\n",
    "uc1_batt_discharge, = uc1_ax.plot(get_x(), [0]*len(get_x()), c='r', label='Battery discharge')\n",
    "uc1_grid, = uc1_ax.plot(get_x(), [0]*len(get_x()), c='b', label='Load Grid')\n",
    "\n",
    "uc1_ax.set_title(\"UC1: Greedy Battery Efficiency\")\n",
    "uc1_ax.set_xlabel('time')\n",
    "uc1_ax.set_ylabel('kW')\n",
    "uc1_ax.legend()\n",
    "\n"
   ]
  },
  {
   "cell_type": "markdown",
   "metadata": {
    "collapsed": true
   },
   "source": [
    "### 3. Z pohľadu dosiahnutia čo najnižšej ceny za spotrebovanú energiu\n",
    "\n",
    "#### a. Event-driven - Nastaví sa threshold ceny za energiu. Pokiaľ je cena za energiu v danom okamihu nižšia, čerpá sa zo siete. Pokiaľ je vyššia, energia sa čerpá z batérie.\n",
    "\n"
   ]
  },
  {
   "cell_type": "code",
   "execution_count": null,
   "metadata": {},
   "outputs": [],
   "source": [
    "def uc3_greedy_refreshData(x, cons, prod):\n",
    "    ygrid, ybatt_charge, ybatt_discharge = uc3.calc_greedy_price_optim(x, \n",
    "                                               cons, \n",
    "                                               prod, \n",
    "                                               battery_capacity=10, \n",
    "                                               price_treshold=putils.offPeakPrice)\n",
    "    \n",
    "    uc3_grid.set_data(x, ygrid)\n",
    "    uc3_batt_charge.set_data(x, ybatt_charge)\n",
    "    uc3_batt_discharge.set_data(x, ybatt_discharge)\n",
    "    uc3_ax.set_xlim(x[0], x[-1])\n",
    "    uc3_ax.set_ylim(-1,np.amax([ygrid, ybatt_charge, ybatt_discharge]))\n",
    "    \n",
    "    fig.canvas.draw()\n",
    "    \n",
    "    \n",
    "uc3_ax = fig.add_subplot(413)\n",
    "uc3_batt_charge, = uc3_ax.plot(get_x(), [0]*len(get_x()), c='y', label='Battery charge')\n",
    "uc3_batt_discharge, = uc3_ax.plot(get_x(), [0]*len(get_x()), c='r', label='Battery discharge')\n",
    "uc3_grid, = uc3_ax.plot(get_x(), [0]*len(get_x()), c='b', label='Load Grid')\n",
    "\n",
    "uc3_ax.set_title(\"UC3: Greedy Price Optimization\")\n",
    "uc3_ax.set_xlabel('time')\n",
    "uc3_ax.set_ylabel('kW')\n",
    "uc3_ax.legend()\n",
    "\n",
    "\n"
   ]
  },
  {
   "cell_type": "markdown",
   "metadata": {},
   "source": [
    "## Cost evolution"
   ]
  },
  {
   "cell_type": "code",
   "execution_count": null,
   "metadata": {},
   "outputs": [],
   "source": [
    "def price_refreshData(x):\n",
    "    hour_prices = putils.get_prices_per_hour(x)\n",
    "\n",
    "    cost_default_grid = putils.get_cost_per_hour(hour_prices, uc0_grid.get_ydata())\n",
    "    cost_batt_eff_grid = putils.get_cost_per_hour(hour_prices, uc1_grid.get_ydata())\n",
    "    cost_price_opt_grid = putils.get_cost_per_hour(hour_prices, uc3_grid.get_ydata())\n",
    "    \n",
    "    price_default.set_data(x, cost_default_grid)\n",
    "    price_uc1_greedy.set_data(x, cost_batt_eff_grid)\n",
    "    price_uc3_greedy.set_data(x, cost_price_opt_grid)\n",
    "    \n",
    "    price_ax.set_xlim(x[0], x[-1])\n",
    "    price_ax.set_ylim(0,np.amax([cost_default_grid, cost_batt_eff_grid, cost_price_opt_grid]))\n",
    "\n",
    "    \n",
    "price_ax = fig.add_subplot(414)\n",
    "price_default, = price_ax.plot(get_x(), [0]*len(get_x()), c='c', label='E Cost UC0 default grid')\n",
    "price_uc1_greedy, = price_ax.plot(get_x(), [0]*len(get_x()), c='m', label='E Cost UC1 Greedy battery usage')\n",
    "price_uc3_greedy, = price_ax.plot(get_x(), [0]*len(get_x()), c='k', label='E Cost UC3 Greedy price optim')\n",
    "\n",
    "price_ax.set_title(\"Cost evolution\")\n",
    "price_ax.set_xlabel('time')\n",
    "price_ax.set_ylabel('Dollar')\n",
    "price_ax.legend()\n",
    "\n",
    "\n"
   ]
  },
  {
   "cell_type": "code",
   "execution_count": null,
   "metadata": {
    "collapsed": true
   },
   "outputs": [],
   "source": [
    "def print_report():\n",
    "    prices = [\n",
    "        sum(price_default.get_ydata()),\n",
    "        sum(price_uc1_greedy.get_ydata()),\n",
    "        sum(price_uc3_greedy.get_ydata())\n",
    "    ]\n",
    "    grid0 = uc0_grid.get_ydata()\n",
    "    grids = [\n",
    "        sum(grid0[grid0>=0]),\n",
    "        sum(uc1_grid.get_ydata()),\n",
    "        sum(uc3_grid.get_ydata())\n",
    "    ]\n",
    "    batts = [\n",
    "        0,\n",
    "        sum(uc1_batt_discharge.get_ydata()),\n",
    "        sum(uc3_batt_discharge.get_ydata()),\n",
    "    ]\n",
    "    cons = [sum(uc0_cons.get_ydata())] * 3\n",
    "    prod = [sum(uc0_prod.get_ydata())] * 3\n",
    "    \n",
    "    df = pd.DataFrame({'Price': prices, \n",
    "                       'Grid kW-h': grids, \n",
    "                       'Batt kW-h': batts,\n",
    "                       'Cons kW-h': cons,\n",
    "                       'Prod kWh': prod})\n",
    "    df.index = ['UC0', 'UC1-EB', 'UC3-EB']\n",
    "    \n",
    "    print(df[['Price', 'Grid kW/h', 'Batt kW/h', 'Cons kW/h', 'Prod kW/h']])\n",
    "\n"
   ]
  },
  {
   "cell_type": "code",
   "execution_count": null,
   "metadata": {
    "collapsed": true
   },
   "outputs": [],
   "source": [
    "\n",
    "# def uc3_alg_batt_usage(x, cons, prod):\n",
    "#     res = uc3.calc_alg_batt_usage(x, cons, prod, battery_capacity=10)\n",
    "    \n",
    "#     res = list(map(lambda x: max(0, x), res))\n",
    "#     res = list(map(lambda x: min(1, x), res))\n",
    "    \n",
    "#     batt_discharge = [0] * len(cons)\n",
    "    \n",
    "#     for idx, x_i in enumerate(res):\n",
    "#         batt_discharge[idx] = \n",
    "    \n",
    "    \n",
    "\n",
    "\n",
    "# uc3_alg_batt_usage(uc0_cons.get_xdata(), uc0_cons.get_ydata(), uc0_prod.get_ydata())\n",
    "\n"
   ]
  },
  {
   "cell_type": "code",
   "execution_count": null,
   "metadata": {
    "collapsed": true
   },
   "outputs": [],
   "source": []
  }
 ],
 "metadata": {
  "kernelspec": {
   "display_name": "Python 3",
   "language": "python",
   "name": "python3"
  },
  "language_info": {
   "codemirror_mode": {
    "name": "ipython",
    "version": 3
   },
   "file_extension": ".py",
   "mimetype": "text/x-python",
   "name": "python",
   "nbconvert_exporter": "python",
   "pygments_lexer": "ipython3",
   "version": "3.6.2"
  }
 },
 "nbformat": 4,
 "nbformat_minor": 2
}
