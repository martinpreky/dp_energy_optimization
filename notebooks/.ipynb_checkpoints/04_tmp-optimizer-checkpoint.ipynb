{
 "cells": [
  {
   "cell_type": "code",
   "execution_count": null,
   "metadata": {},
   "outputs": [],
   "source": [
    "import numpy as np\n",
    "from skopt import gp_minimize\n",
    "\n",
    "def f(x):\n",
    "    return (np.sin(5 * x[0]) * (1 - np.tanh(x[0] ** 2)) +\n",
    "            np.random.randn() * 0.1)\n",
    "\n",
    "res = gp_minimize(f, [(-2.0, 2.0)])\n",
    "\n",
    "res"
   ]
  },
  {
   "cell_type": "code",
   "execution_count": null,
   "metadata": {},
   "outputs": [],
   "source": [
    "from skopt import Optimizer\n",
    "\n",
    "opt = Optimizer([(-2.0, 2.0)], base_estimator='gp')\n",
    "\n",
    "for i in range(20):\n",
    "    suggested = opt.ask()\n",
    "    y = f(suggested)\n",
    "    opt.tell(suggested, y)\n",
    "    print('iteration:', i, suggested, y)"
   ]
  },
  {
   "cell_type": "markdown",
   "metadata": {
    "collapsed": true
   },
   "source": [
    "Minimize with scipy"
   ]
  },
  {
   "cell_type": "code",
   "execution_count": null,
   "metadata": {
    "collapsed": true
   },
   "outputs": [],
   "source": [
    "import numpy as np\n",
    "from scipy.optimize import minimize\n",
    "import datetime as datetime\n",
    "import price_utils as pu\n",
    "\n",
    "time = [\n",
    " datetime.datetime(2014, 1, 1, 0, 0), datetime.datetime(2014, 1, 1, 1, 0),\n",
    " datetime.datetime(2014, 1, 1, 2, 0), datetime.datetime(2014, 1, 1, 3, 0),\n",
    " datetime.datetime(2014, 1, 1, 4, 0), datetime.datetime(2014, 1, 1, 5, 0),\n",
    " datetime.datetime(2014, 1, 1, 6, 0), datetime.datetime(2014, 1, 1, 7, 0),\n",
    " datetime.datetime(2014, 1, 1, 8, 0), datetime.datetime(2014, 1, 1, 9, 0),\n",
    " datetime.datetime(2014, 1, 1, 10, 0), datetime.datetime(2014, 1, 1, 11, 0),\n",
    " datetime.datetime(2014, 1, 1, 12, 0), datetime.datetime(2014, 1, 1, 13, 0),\n",
    " datetime.datetime(2014, 1, 1, 14, 0), datetime.datetime(2014, 1, 1, 15, 0),\n",
    " datetime.datetime(2014, 1, 1, 16, 0), datetime.datetime(2014, 1, 1, 17, 0),\n",
    " datetime.datetime(2014, 1, 1, 18, 0), datetime.datetime(2014, 1, 1, 19, 0),\n",
    " datetime.datetime(2014, 1, 1, 20, 0), datetime.datetime(2014, 1, 1, 21, 0),\n",
    " datetime.datetime(2014, 1, 1, 22, 0), datetime.datetime(2014, 1, 1, 23, 0)\n",
    " ]\n",
    "\n",
    "cons = np.array([\n",
    "  3.50201667,  3.54595    , 3.57833333,  3.52298333,  3.5632   ,   3.47963333,\n",
    "  3.54918333 , 3.03461667 , 0.38033333 , 0.40003333 , 0.17285   ,  0.2043,\n",
    "  0.18611667,  0.16973333 , 0.35173333,  0.20706667 , 0.23841667,  0.75256667,\n",
    "  3.69731667,  3.83086667 , 3.80273333 , 3.77096667 , 3.88846667 , 3.77421667\n",
    "  ])\n",
    "\n",
    "prod = np.array([\n",
    "  -0.01341667, -0.01356667, -0.01353333, -0.01336667 ,-0.01346667, -0.01328333,\n",
    " -0.01348333 , 0.06991667 , 1.22971667 , 2.66196667 , 3.46321667 , 2.31033333,\n",
    "  1.57818333 , 2.2803    ,  2.31488333 , 0.7913    ,  0.44245    , 0.05665,\n",
    " -0.01345    ,-0.01308333, -0.013      ,-0.01316667, -0.013      ,-0.01341667\n",
    " ])\n",
    "\n",
    "prices = np.array(pu.get_prices_per_hour(time))\n",
    "\n",
    "\n",
    "# Normalizovanie prod na 0 alebo kladne\n",
    "prod = list(map(lambda x: max(0, x), prod))\n",
    "\n",
    "\n",
    "\n",
    "\n",
    "def f(x):\n",
    "  batt_charge = [0] * len(x)\n",
    "  grid = [0] * len(x)\n",
    "  for idx,w in enumerate(x):\n",
    "    batt_charge[idx] = batt_charge[idx-1] + prod[idx]\n",
    "    batt_charge[idx] = min(10, batt_charge[idx])\n",
    "    \n",
    "    pred = batt_charge[idx]\n",
    "    po = batt_charge[idx] * w\n",
    "\n",
    "    z_baterie = pred - po\n",
    "\n",
    "    grid[idx] += max(0, cons[idx] - z_baterie)\n",
    "    batt_charge[idx] = po\n",
    "\n",
    "  return sum(grid*prices)\n",
    "\n",
    "x0 = np.array([1] * len(prod))\n",
    "\n",
    "res = minimize(f, x0, method='L-BFGS-B',  options={'xtol': 1e-8, 'disp': False, 'maxiter':5000})\n",
    "print(res.x)\n",
    "\n"
   ]
  }
 ],
 "metadata": {
  "kernelspec": {
   "display_name": "Python 3",
   "language": "python",
   "name": "python3"
  },
  "language_info": {
   "codemirror_mode": {
    "name": "ipython",
    "version": 3
   },
   "file_extension": ".py",
   "mimetype": "text/x-python",
   "name": "python",
   "nbconvert_exporter": "python",
   "pygments_lexer": "ipython3",
   "version": "3.6.2"
  }
 },
 "nbformat": 4,
 "nbformat_minor": 2
}
